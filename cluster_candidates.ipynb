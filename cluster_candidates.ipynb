{
 "cells": [
  {
   "cell_type": "code",
   "execution_count": 5,
   "metadata": {},
   "outputs": [],
   "source": [
    "%matplotlib widget\n",
    "\n",
    "from cluster_candidates import SameCellProcessor, SameCellParams, SameCellClusterParameters\n",
    "from cluster_candidates import (\n",
    "    plot_correlation_vs_distance,\n",
    "    plot_plane_pair_histograms,\n",
    "    plot_cluster_size_distribution,\n",
    "    plot_distance_distribution,\n",
    "    plot_roi_removal_analysis,\n",
    "    ClusterExplorer,\n",
    ")"
   ]
  },
  {
   "cell_type": "code",
   "execution_count": 8,
   "metadata": {},
   "outputs": [],
   "source": [
    "spks = # Your times x ROIs array of activity you want to use for detecting clusters (Fluorescence better than deconvolved!)\n",
    "stat = # list of stat dictionaries for each ROI\n",
    "roi_plane_idx = # np array of plan indices for each ROI\n",
    "scp = SameCellProcessor(spks, roi_plane_idx, stat)  # You can use params for this -- see the base module"
   ]
  },
  {
   "cell_type": "code",
   "execution_count": null,
   "metadata": {},
   "outputs": [],
   "source": [
    "ops = # the ops dictionary for the suite2p session (only from a single plane)\n",
    "explorer = ClusterExplorer(scp, stat, ops).deploy()"
   ]
  },
  {
   "cell_type": "code",
   "execution_count": 19,
   "metadata": {},
   "outputs": [],
   "source": [
    "show_cluster_size = False\n",
    "if show_cluster_size:\n",
    "    plot_cluster_size_distribution(scp, verbose=False)"
   ]
  },
  {
   "cell_type": "code",
   "execution_count": null,
   "metadata": {},
   "outputs": [],
   "source": [
    "show_correlation_vs_distance = False\n",
    "if show_correlation_vs_distance:\n",
    "    viewer = plot_correlation_vs_distance(scp).deploy()"
   ]
  }
 ],
 "metadata": {
  "kernelspec": {
   "display_name": "vrAnalysis",
   "language": "python",
   "name": "python3"
  },
  "language_info": {
   "codemirror_mode": {
    "name": "ipython",
    "version": 3
   },
   "file_extension": ".py",
   "mimetype": "text/x-python",
   "name": "python",
   "nbconvert_exporter": "python",
   "pygments_lexer": "ipython3",
   "version": "3.11.11"
  }
 },
 "nbformat": 4,
 "nbformat_minor": 2
}
